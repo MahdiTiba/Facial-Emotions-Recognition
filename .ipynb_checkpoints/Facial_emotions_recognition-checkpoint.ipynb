{
 "cells": [
  {
   "cell_type": "code",
   "execution_count": 125,
   "metadata": {
    "id": "2UtBci1RRBow"
   },
   "outputs": [],
   "source": [
    "import numpy as np\n",
    "import os\n",
    "import matplotlib.pyplot as plt\n",
    "from tensorflow.keras.preprocessing.image import ImageDataGenerator\n",
    "from tensorflow.keras.layers import Dense, Flatten, Dropout, Conv2D, MaxPooling2D, BatchNormalization\n",
    "from tensorflow.keras.callbacks import ModelCheckpoint, EarlyStopping\n",
    "import tensorflow as tf"
   ]
  },
  {
   "cell_type": "code",
   "execution_count": null,
   "metadata": {
    "colab": {
     "base_uri": "https://localhost:8080/"
    },
    "id": "-yWIl7SaafdQ",
    "outputId": "94a623ba-501c-42ec-d889-b1b045c05bcc"
   },
   "outputs": [],
   "source": [
    "from google.colab import drive\n",
    "drive.mount('/content/drive')"
   ]
  },
  {
   "cell_type": "code",
   "execution_count": 126,
   "metadata": {},
   "outputs": [],
   "source": [
    "train_path = 'W:\\Knowledge Base\\Github\\Sentiment-Analysis\\FER\\\\train'\n",
    "test_path = 'W:\\Knowledge Base\\Github\\Sentiment-Analysis\\FER\\\\test'"
   ]
  },
  {
   "cell_type": "code",
   "execution_count": null,
   "metadata": {
    "id": "69_OqtAvgv27"
   },
   "outputs": [],
   "source": [
    "train_path = '/content/drive/My Drive/KDEF/Train'\n",
    "test_path = '/content/drive/My Drive/KDEF/Test'"
   ]
  },
  {
   "cell_type": "code",
   "execution_count": 127,
   "metadata": {
    "colab": {
     "base_uri": "https://localhost:8080/"
    },
    "id": "dYwcx52fhiFK",
    "outputId": "308281ff-0888-45b8-925f-5a916c16559c"
   },
   "outputs": [
    {
     "name": "stdout",
     "output_type": "stream",
     "text": [
      "Train:\n",
      "Number of Surprised images : 3171\n",
      "Number of Afraid images : 4098\n",
      "Number of Disgusted images : 437\n",
      "Number of Angry images : 3996\n",
      "Number of Neutral images : 4965\n",
      "Number of Sad images : 4830\n",
      "-----------------------------------------------\n",
      "Test:\n",
      "Number of Surprised images : 831\n",
      "Number of Afraid images : 1024\n",
      "Number of Disgusted images : 112\n",
      "Number of Angry images : 958\n",
      "Number of Neutral images : 1233\n",
      "Number of Sad images : 1247\n"
     ]
    }
   ],
   "source": [
    "print('Train:')\n",
    "print(f'Number of Surprised images : {len(os.listdir(os.path.join(train_path, \"surprise\")))}')\n",
    "print(f'Number of Afraid images : {len(os.listdir(os.path.join(train_path, \"fear\")))}')\n",
    "print(f'Number of Disgusted images : {len(os.listdir(os.path.join(train_path, \"disgust\")))}')\n",
    "print(f'Number of Angry images : {len(os.listdir(os.path.join(train_path, \"angry\")))}')\n",
    "print(f'Number of Neutral images : {len(os.listdir(os.path.join(train_path, \"neutral\")))}')\n",
    "print(f'Number of Sad images : {len(os.listdir(os.path.join(train_path, \"sad\")))}')\n",
    "print('-----------------------------------------------')\n",
    "print('Test:')\n",
    "print(f'Number of Surprised images : {len(os.listdir(os.path.join(test_path, \"surprise\")))}')\n",
    "print(f'Number of Afraid images : {len(os.listdir(os.path.join(test_path, \"fear\")))}')\n",
    "print(f'Number of Disgusted images : {len(os.listdir(os.path.join(test_path, \"disgust\")))}')\n",
    "print(f'Number of Angry images : {len(os.listdir(os.path.join(test_path, \"angry\")))}')\n",
    "print(f'Number of Neutral images : {len(os.listdir(os.path.join(test_path, \"neutral\")))}')\n",
    "print(f'Number of Sad images : {len(os.listdir(os.path.join(test_path, \"sad\")))}')"
   ]
  },
  {
   "cell_type": "code",
   "execution_count": 128,
   "metadata": {
    "colab": {
     "base_uri": "https://localhost:8080/"
    },
    "id": "YvD3iAmCkKs3",
    "outputId": "fa7e91d8-62b0-471d-f5d2-7e298237e4c6"
   },
   "outputs": [
    {
     "name": "stdout",
     "output_type": "stream",
     "text": [
      "Found 28709 images belonging to 7 classes.\n",
      "Found 7178 images belonging to 7 classes.\n"
     ]
    }
   ],
   "source": [
    "BATCH_SIZE = 64\n",
    "IMG_SIZE = (48, 48)\n",
    "\n",
    "datagen = ImageDataGenerator(rescale=1./255,\n",
    "                             rotation_range=10,\n",
    "                             zoom_range = 0.1,\n",
    "                             width_shift_range=0.1,\n",
    "                             height_shift_range=0.1,)\n",
    "\n",
    "train_dataset = datagen.flow_from_directory(train_path,\n",
    "                                            shuffle=True,\n",
    "                                            batch_size=BATCH_SIZE,\n",
    "                                            target_size=IMG_SIZE,\n",
    "                                            seed=42)\n",
    "\n",
    "validation_dataset = datagen.flow_from_directory(test_path,\n",
    "                                                shuffle=True,\n",
    "                                                batch_size=BATCH_SIZE,\n",
    "                                                target_size=IMG_SIZE,\n",
    "                                                seed=42)"
   ]
  },
  {
   "cell_type": "code",
   "execution_count": 129,
   "metadata": {},
   "outputs": [
    {
     "name": "stdout",
     "output_type": "stream",
     "text": [
      "(64, 48, 48, 3)\n"
     ]
    }
   ],
   "source": [
    "for image, label in train_dataset:\n",
    "    print(image.shape)\n",
    "    break"
   ]
  },
  {
   "cell_type": "code",
   "execution_count": null,
   "metadata": {
    "colab": {
     "base_uri": "https://localhost:8080/",
     "height": 829
    },
    "id": "FrXCC_1blLam",
    "outputId": "38b95863-7050-4a19-cdd8-ed4f77ff820d"
   },
   "outputs": [],
   "source": [
    "class_names = train_dataset.class_names\n",
    "\n",
    "plt.figure(figsize=(10, 10))\n",
    "for images, labels in train_dataset.take(1):\n",
    "    for i in range(9):\n",
    "        ax = plt.subplot(3, 3, i + 1)\n",
    "        plt.imshow(images[i].numpy().astype(\"uint8\"))\n",
    "        plt.title(class_names[labels[i]])\n",
    "        plt.axis(\"off\")"
   ]
  },
  {
   "cell_type": "code",
   "execution_count": null,
   "metadata": {},
   "outputs": [],
   "source": []
  },
  {
   "cell_type": "code",
   "execution_count": null,
   "metadata": {
    "id": "S31Z5J0V_nV6"
   },
   "outputs": [],
   "source": [
    "for layer in base_model.layers:\n",
    "  layer.trainable = False"
   ]
  },
  {
   "cell_type": "code",
   "execution_count": null,
   "metadata": {
    "id": "Amz1alAYxpdX"
   },
   "outputs": [],
   "source": [
    "top_model = base_model.output\n",
    "top_model = Flatten(name=\"flatten\")(top_model)\n",
    "top_model = Dense(1024, activation='relu')(top_model)\n",
    "top_model = Dropout(0.2)(top_model)\n",
    "output_layer = Dense(7, activation='softmax')(top_model)\n",
    "\n",
    "# Group the convolutional base and new fully-connected layers into a Model object.\n",
    "MobileNet_model = tf.keras.models.Model(inputs=base_model.input, outputs=output_layer)"
   ]
  },
  {
   "cell_type": "code",
   "execution_count": null,
   "metadata": {
    "id": "RtP_Y7QlyA9V"
   },
   "outputs": [],
   "source": [
    "MobileNet_model.compile(optimizer='adam',\n",
    "                  loss='categorical_crossentropy',\n",
    "                  metrics=['accuracy'])"
   ]
  },
  {
   "cell_type": "code",
   "execution_count": null,
   "metadata": {
    "id": "Q9zBbUhK1Vpq"
   },
   "outputs": [],
   "source": [
    "# EarlyStopping\n",
    "early_stop = EarlyStopping(monitor='val_loss',\n",
    "                           min_delta=0,\n",
    "                           patience=5,\n",
    "                           mode='min')"
   ]
  },
  {
   "cell_type": "code",
   "execution_count": 131,
   "metadata": {},
   "outputs": [
    {
     "name": "stdout",
     "output_type": "stream",
     "text": [
      "Model: \"sequential_19\"\n",
      "_________________________________________________________________\n",
      " Layer (type)                Output Shape              Param #   \n",
      "=================================================================\n",
      " conv2d_87 (Conv2D)          (None, 48, 48, 32)        896       \n",
      "                                                                 \n",
      " conv2d_88 (Conv2D)          (None, 48, 48, 32)        9248      \n",
      "                                                                 \n",
      " max_pooling2d_21 (MaxPoolin  (None, 24, 24, 32)       0         \n",
      " g2D)                                                            \n",
      "                                                                 \n",
      " conv2d_89 (Conv2D)          (None, 24, 24, 64)        18496     \n",
      "                                                                 \n",
      " conv2d_90 (Conv2D)          (None, 24, 24, 64)        36928     \n",
      "                                                                 \n",
      " max_pooling2d_22 (MaxPoolin  (None, 12, 12, 64)       0         \n",
      " g2D)                                                            \n",
      "                                                                 \n",
      " conv2d_91 (Conv2D)          (None, 12, 12, 96)        55392     \n",
      "                                                                 \n",
      " conv2d_92 (Conv2D)          (None, 12, 12, 96)        83040     \n",
      "                                                                 \n",
      " max_pooling2d_23 (MaxPoolin  (None, 6, 6, 96)         0         \n",
      " g2D)                                                            \n",
      "                                                                 \n",
      " conv2d_93 (Conv2D)          (None, 6, 6, 128)         110720    \n",
      "                                                                 \n",
      " conv2d_94 (Conv2D)          (None, 6, 6, 128)         147584    \n",
      "                                                                 \n",
      " max_pooling2d_24 (MaxPoolin  (None, 3, 3, 128)        0         \n",
      " g2D)                                                            \n",
      "                                                                 \n",
      " flatten_7 (Flatten)         (None, 1152)              0         \n",
      "                                                                 \n",
      " dense_12 (Dense)            (None, 64)                73792     \n",
      "                                                                 \n",
      " dropout_6 (Dropout)         (None, 64)                0         \n",
      "                                                                 \n",
      " dense_13 (Dense)            (None, 7)                 455       \n",
      "                                                                 \n",
      "=================================================================\n",
      "Total params: 536,551\n",
      "Trainable params: 536,551\n",
      "Non-trainable params: 0\n",
      "_________________________________________________________________\n",
      "None\n"
     ]
    }
   ],
   "source": [
    "model = tf.keras.models.Sequential()\n",
    "\n",
    "model.add(Conv2D(32, (3, 3), activation='relu', padding=\"same\", input_shape=(48, 48, 3)))\n",
    "model.add(Conv2D(32, (3, 3), padding=\"same\", activation='relu'))\n",
    "model.add(MaxPooling2D())\n",
    "model.add(Conv2D(64, (3, 3), activation='relu', padding=\"same\"))\n",
    "model.add(Conv2D(64, (3, 3), padding=\"same\", activation='relu'))\n",
    "model.add(MaxPooling2D())\n",
    "model.add(Conv2D(96, (3, 3), dilation_rate=(2, 2), activation='relu', padding=\"same\"))\n",
    "model.add(Conv2D(96, (3, 3), padding=\"same\", activation='relu'))\n",
    "model.add(MaxPooling2D())\n",
    "model.add(Conv2D(128, (3, 3), dilation_rate=(2, 2), activation='relu', padding=\"same\"))\n",
    "model.add(Conv2D(128, (3, 3), padding=\"same\", activation='relu'))\n",
    "model.add(MaxPooling2D())\n",
    "model.add(Flatten())\n",
    "model.add(Dense(64, activation='relu'))\n",
    "model.add(Dropout(0.4))\n",
    "model.add(Dense(7 , activation='softmax'))\n",
    "\n",
    "model.compile(loss='binary_crossentropy',\n",
    "              optimizer='adam' ,\n",
    "              metrics=['accuracy'])\n",
    "\n",
    "print(model.summary())"
   ]
  },
  {
   "cell_type": "code",
   "execution_count": 132,
   "metadata": {},
   "outputs": [],
   "source": [
    "#learning rate decay\n",
    "from keras.callbacks import ReduceLROnPlateau\n",
    "lr_reduce = ReduceLROnPlateau(\n",
    "            monitor=\"val_loss\",\n",
    "            factor=0.1,\n",
    "            patience=10,\n",
    "            verbose=1,\n",
    "            mode=\"min\",\n",
    "            min_delta=0.001,\n",
    "            cooldown=5,\n",
    "            min_lr=0.0,\n",
    ")"
   ]
  },
  {
   "cell_type": "code",
   "execution_count": 133,
   "metadata": {},
   "outputs": [],
   "source": [
    "early_stop = EarlyStopping(monitor='val_loss',\n",
    "                           min_delta=0,\n",
    "                           patience=20,\n",
    "                           mode='min')"
   ]
  },
  {
   "cell_type": "code",
   "execution_count": 134,
   "metadata": {},
   "outputs": [
    {
     "name": "stdout",
     "output_type": "stream",
     "text": [
      "Epoch 1/100\n",
      "448/448 [==============================] - 2134s 5s/step - loss: 0.4085 - accuracy: 0.2184 - val_loss: 0.3892 - val_accuracy: 0.2499 - lr: 0.0010\n",
      "Epoch 2/100\n",
      "448/448 [==============================] - 1578s 4s/step - loss: 0.3921 - accuracy: 0.2519 - val_loss: 0.3808 - val_accuracy: 0.2662 - lr: 0.0010\n",
      "Epoch 3/100\n",
      "448/448 [==============================] - 1276s 3s/step - loss: 0.3721 - accuracy: 0.3195 - val_loss: 0.3413 - val_accuracy: 0.3820 - lr: 0.0010\n",
      "Epoch 4/100\n",
      "448/448 [==============================] - 1330s 3s/step - loss: 0.3400 - accuracy: 0.3968 - val_loss: 0.3126 - val_accuracy: 0.4436 - lr: 0.0010\n",
      "Epoch 5/100\n",
      "448/448 [==============================] - 1247s 3s/step - loss: 0.3188 - accuracy: 0.4486 - val_loss: 0.3029 - val_accuracy: 0.4763 - lr: 0.0010\n",
      "Epoch 6/100\n",
      "448/448 [==============================] - 1410s 3s/step - loss: 0.3038 - accuracy: 0.4826 - val_loss: 0.2888 - val_accuracy: 0.5091 - lr: 0.0010\n",
      "Epoch 7/100\n",
      "448/448 [==============================] - 1699s 4s/step - loss: 0.2925 - accuracy: 0.5111 - val_loss: 0.2797 - val_accuracy: 0.5237 - lr: 0.0010\n",
      "Epoch 8/100\n",
      "448/448 [==============================] - 1503s 3s/step - loss: 0.2839 - accuracy: 0.5325 - val_loss: 0.2741 - val_accuracy: 0.5370 - lr: 0.0010\n",
      "Epoch 9/100\n",
      "448/448 [==============================] - 2416s 5s/step - loss: 0.2778 - accuracy: 0.5449 - val_loss: 0.2704 - val_accuracy: 0.5460 - lr: 0.0010\n",
      "Epoch 10/100\n",
      "448/448 [==============================] - 2123s 5s/step - loss: 0.2714 - accuracy: 0.5583 - val_loss: 0.2702 - val_accuracy: 0.5506 - lr: 0.0010\n",
      "Epoch 11/100\n",
      "448/448 [==============================] - 1225s 3s/step - loss: 0.2665 - accuracy: 0.5707 - val_loss: 0.2635 - val_accuracy: 0.5593 - lr: 0.0010\n",
      "Epoch 12/100\n",
      "448/448 [==============================] - 1001s 2s/step - loss: 0.2624 - accuracy: 0.5784 - val_loss: 0.2614 - val_accuracy: 0.5611 - lr: 0.0010\n",
      "Epoch 13/100\n",
      "448/448 [==============================] - 1021s 2s/step - loss: 0.2575 - accuracy: 0.5862 - val_loss: 0.2588 - val_accuracy: 0.5718 - lr: 0.0010\n",
      "Epoch 14/100\n",
      "448/448 [==============================] - 1007s 2s/step - loss: 0.2539 - accuracy: 0.5913 - val_loss: 0.2541 - val_accuracy: 0.5753 - lr: 0.0010\n",
      "Epoch 15/100\n",
      "448/448 [==============================] - 1032s 2s/step - loss: 0.2503 - accuracy: 0.6023 - val_loss: 0.2576 - val_accuracy: 0.5776 - lr: 0.0010\n",
      "Epoch 16/100\n",
      "448/448 [==============================] - 1161s 3s/step - loss: 0.2461 - accuracy: 0.6075 - val_loss: 0.2545 - val_accuracy: 0.5753 - lr: 0.0010\n",
      "Epoch 17/100\n",
      "448/448 [==============================] - 1034s 2s/step - loss: 0.2443 - accuracy: 0.6081 - val_loss: 0.2546 - val_accuracy: 0.5721 - lr: 0.0010\n",
      "Epoch 18/100\n",
      "448/448 [==============================] - 1017s 2s/step - loss: 0.2418 - accuracy: 0.6162 - val_loss: 0.2548 - val_accuracy: 0.5808 - lr: 0.0010\n",
      "Epoch 19/100\n",
      "448/448 [==============================] - 1059s 2s/step - loss: 0.2390 - accuracy: 0.6217 - val_loss: 0.2502 - val_accuracy: 0.5851 - lr: 0.0010\n",
      "Epoch 20/100\n",
      "448/448 [==============================] - 1065s 2s/step - loss: 0.2368 - accuracy: 0.6245 - val_loss: 0.2482 - val_accuracy: 0.5961 - lr: 0.0010\n",
      "Epoch 21/100\n",
      "448/448 [==============================] - 1092s 2s/step - loss: 0.2348 - accuracy: 0.6303 - val_loss: 0.2502 - val_accuracy: 0.5875 - lr: 0.0010\n",
      "Epoch 22/100\n",
      "448/448 [==============================] - 1066s 2s/step - loss: 0.2309 - accuracy: 0.6348 - val_loss: 0.2548 - val_accuracy: 0.5837 - lr: 0.0010\n",
      "Epoch 23/100\n",
      "448/448 [==============================] - 1160s 3s/step - loss: 0.2288 - accuracy: 0.6422 - val_loss: 0.2504 - val_accuracy: 0.6002 - lr: 0.0010\n",
      "Epoch 24/100\n",
      "448/448 [==============================] - 1119s 2s/step - loss: 0.2270 - accuracy: 0.6412 - val_loss: 0.2492 - val_accuracy: 0.5939 - lr: 0.0010\n",
      "Epoch 25/100\n",
      "448/448 [==============================] - 1091s 2s/step - loss: 0.2242 - accuracy: 0.6468 - val_loss: 0.2533 - val_accuracy: 0.5866 - lr: 0.0010\n",
      "Epoch 26/100\n",
      "448/448 [==============================] - 1059s 2s/step - loss: 0.2231 - accuracy: 0.6514 - val_loss: 0.2552 - val_accuracy: 0.5991 - lr: 0.0010\n",
      "Epoch 27/100\n",
      "448/448 [==============================] - 1080s 2s/step - loss: 0.2220 - accuracy: 0.6522 - val_loss: 0.2517 - val_accuracy: 0.6004 - lr: 0.0010\n",
      "Epoch 28/100\n",
      "448/448 [==============================] - 1079s 2s/step - loss: 0.2201 - accuracy: 0.6590 - val_loss: 0.2554 - val_accuracy: 0.5879 - lr: 0.0010\n",
      "Epoch 29/100\n",
      "448/448 [==============================] - 1075s 2s/step - loss: 0.2187 - accuracy: 0.6580 - val_loss: 0.2484 - val_accuracy: 0.6095 - lr: 0.0010\n",
      "Epoch 30/100\n",
      "448/448 [==============================] - ETA: 0s - loss: 0.2170 - accuracy: 0.6603\n",
      "Epoch 30: ReduceLROnPlateau reducing learning rate to 0.00010000000474974513.\n",
      "448/448 [==============================] - 1066s 2s/step - loss: 0.2170 - accuracy: 0.6603 - val_loss: 0.2543 - val_accuracy: 0.5979 - lr: 0.0010\n",
      "Epoch 31/100\n",
      "448/448 [==============================] - 1103s 2s/step - loss: 0.2021 - accuracy: 0.6888 - val_loss: 0.2438 - val_accuracy: 0.6190 - lr: 1.0000e-04\n",
      "Epoch 32/100\n",
      "448/448 [==============================] - 1086s 2s/step - loss: 0.1981 - accuracy: 0.6981 - val_loss: 0.2444 - val_accuracy: 0.6203 - lr: 1.0000e-04\n",
      "Epoch 33/100\n",
      "448/448 [==============================] - 1060s 2s/step - loss: 0.1964 - accuracy: 0.7008 - val_loss: 0.2426 - val_accuracy: 0.6247 - lr: 1.0000e-04\n",
      "Epoch 34/100\n",
      "448/448 [==============================] - 1074s 2s/step - loss: 0.1949 - accuracy: 0.7032 - val_loss: 0.2425 - val_accuracy: 0.6240 - lr: 1.0000e-04\n",
      "Epoch 35/100\n",
      "448/448 [==============================] - 1088s 2s/step - loss: 0.1924 - accuracy: 0.7078 - val_loss: 0.2472 - val_accuracy: 0.6104 - lr: 1.0000e-04\n",
      "Epoch 36/100\n",
      "448/448 [==============================] - 1082s 2s/step - loss: 0.1936 - accuracy: 0.7049 - val_loss: 0.2471 - val_accuracy: 0.6158 - lr: 1.0000e-04\n",
      "Epoch 37/100\n",
      "448/448 [==============================] - 1082s 2s/step - loss: 0.1912 - accuracy: 0.7071 - val_loss: 0.2435 - val_accuracy: 0.6175 - lr: 1.0000e-04\n",
      "Epoch 38/100\n",
      "448/448 [==============================] - 1093s 2s/step - loss: 0.1902 - accuracy: 0.7102 - val_loss: 0.2467 - val_accuracy: 0.6134 - lr: 1.0000e-04\n",
      "Epoch 39/100\n",
      "448/448 [==============================] - 1454s 3s/step - loss: 0.1895 - accuracy: 0.7132 - val_loss: 0.2431 - val_accuracy: 0.6219 - lr: 1.0000e-04\n",
      "Epoch 40/100\n",
      "448/448 [==============================] - 1281s 3s/step - loss: 0.1888 - accuracy: 0.7123 - val_loss: 0.2470 - val_accuracy: 0.6232 - lr: 1.0000e-04\n",
      "Epoch 41/100\n",
      "448/448 [==============================] - 1086s 2s/step - loss: 0.1864 - accuracy: 0.7163 - val_loss: 0.2474 - val_accuracy: 0.6176 - lr: 1.0000e-04\n",
      "Epoch 42/100\n",
      "448/448 [==============================] - 1051s 2s/step - loss: 0.1871 - accuracy: 0.7164 - val_loss: 0.2480 - val_accuracy: 0.6200 - lr: 1.0000e-04\n",
      "Epoch 43/100\n",
      "448/448 [==============================] - 1064s 2s/step - loss: 0.1855 - accuracy: 0.7166 - val_loss: 0.2456 - val_accuracy: 0.6189 - lr: 1.0000e-04\n",
      "Epoch 44/100\n",
      "448/448 [==============================] - ETA: 0s - loss: 0.1869 - accuracy: 0.7172\n",
      "Epoch 44: ReduceLROnPlateau reducing learning rate to 1.0000000474974514e-05.\n",
      "448/448 [==============================] - 1034s 2s/step - loss: 0.1869 - accuracy: 0.7172 - val_loss: 0.2473 - val_accuracy: 0.6201 - lr: 1.0000e-04\n",
      "Epoch 45/100\n",
      "448/448 [==============================] - 1041s 2s/step - loss: 0.1844 - accuracy: 0.7182 - val_loss: 0.2471 - val_accuracy: 0.6239 - lr: 1.0000e-05\n",
      "Epoch 46/100\n",
      "448/448 [==============================] - 1028s 2s/step - loss: 0.1836 - accuracy: 0.7205 - val_loss: 0.2478 - val_accuracy: 0.6194 - lr: 1.0000e-05\n",
      "Epoch 47/100\n",
      "448/448 [==============================] - 1025s 2s/step - loss: 0.1838 - accuracy: 0.7226 - val_loss: 0.2482 - val_accuracy: 0.6222 - lr: 1.0000e-05\n",
      "Epoch 48/100\n",
      "448/448 [==============================] - 1063s 2s/step - loss: 0.1828 - accuracy: 0.7224 - val_loss: 0.2465 - val_accuracy: 0.6251 - lr: 1.0000e-05\n",
      "Epoch 49/100\n",
      "448/448 [==============================] - 1035s 2s/step - loss: 0.1820 - accuracy: 0.7215 - val_loss: 0.2476 - val_accuracy: 0.6182 - lr: 1.0000e-05\n",
      "Epoch 50/100\n"
     ]
    },
    {
     "name": "stdout",
     "output_type": "stream",
     "text": [
      "448/448 [==============================] - 1016s 2s/step - loss: 0.1837 - accuracy: 0.7218 - val_loss: 0.2452 - val_accuracy: 0.6290 - lr: 1.0000e-05\n",
      "Epoch 51/100\n",
      "448/448 [==============================] - 1030s 2s/step - loss: 0.1832 - accuracy: 0.7210 - val_loss: 0.2475 - val_accuracy: 0.6208 - lr: 1.0000e-05\n",
      "Epoch 52/100\n",
      "448/448 [==============================] - 1052s 2s/step - loss: 0.1838 - accuracy: 0.7200 - val_loss: 0.2458 - val_accuracy: 0.6254 - lr: 1.0000e-05\n",
      "Epoch 53/100\n",
      "448/448 [==============================] - 1037s 2s/step - loss: 0.1823 - accuracy: 0.7247 - val_loss: 0.2476 - val_accuracy: 0.6172 - lr: 1.0000e-05\n",
      "Epoch 54/100\n",
      "448/448 [==============================] - 1027s 2s/step - loss: 0.1821 - accuracy: 0.7230 - val_loss: 0.2455 - val_accuracy: 0.6268 - lr: 1.0000e-05\n"
     ]
    }
   ],
   "source": [
    "n_epochs = 100\n",
    "BATCH_SIZE = 64\n",
    "\n",
    "model_history = model.fit(train_dataset,\n",
    "                          batch_size=BATCH_SIZE,\n",
    "                          epochs=n_epochs,\n",
    "                          validation_data=validation_dataset,\n",
    "                          steps_per_epoch=train_dataset.samples // BATCH_SIZE,\n",
    "                          validation_steps=validation_dataset.samples // BATCH_SIZE,\n",
    "                          callbacks=[early_stop, lr_reduce],)"
   ]
  },
  {
   "cell_type": "code",
   "execution_count": 136,
   "metadata": {},
   "outputs": [
    {
     "name": "stdout",
     "output_type": "stream",
     "text": [
      "dict_keys(['loss', 'accuracy', 'val_loss', 'val_accuracy', 'lr'])\n"
     ]
    },
    {
     "data": {
      "image/png": "[encoded data removed]",
      "text/plain": [
       "<Figure size 640x480 with 1 Axes>"
      ]
     },
     "metadata": {},
     "output_type": "display_data"
    },
    {
     "data": {
      "image/png": "[encoded data removed]",
      "text/plain": [
       "<Figure size 640x480 with 1 Axes>"
      ]
     },
     "metadata": {},
     "output_type": "display_data"
    }
   ],
   "source": [
    "# list all data in history\n",
    "print(model_history.history.keys())\n",
    "# summarize history for accuracy\n",
    "plt.plot(model_history.history['accuracy'])\n",
    "plt.plot(model_history.history['val_accuracy'])\n",
    "plt.title('model accuracy')\n",
    "plt.ylabel('accuracy')\n",
    "plt.xlabel('epoch')\n",
    "plt.legend(['train', 'test'], loc='upper left')\n",
    "plt.show()\n",
    "# summarize history for loss\n",
    "plt.plot(model_history.history['loss'])\n",
    "plt.plot(model_history.history['val_loss'])\n",
    "plt.title('model loss')\n",
    "plt.ylabel('loss')\n",
    "plt.xlabel('epoch')\n",
    "plt.legend(['train', 'test'], loc='upper left')\n",
    "plt.show()"
   ]
  },
  {
   "cell_type": "code",
   "execution_count": null,
   "metadata": {
    "colab": {
     "base_uri": "https://localhost:8080/"
    },
    "id": "0EvuGidRz4pW",
    "outputId": "359f498c-46c6-4be1-aaeb-d2dd1f8113cd"
   },
   "outputs": [],
   "source": [
    "n_epochs = 30\n",
    "\n",
    "MobileNet_history = MobileNet_model.fit(train_dataset,\n",
    "                                        batch_size=BATCH_SIZE,\n",
    "                                        epochs=n_epochs,\n",
    "                                        validation_data=validation_dataset,\n",
    "                                        steps_per_epoch=train_dataset.samples // BATCH_SIZE,\n",
    "                                        validation_steps=validation_dataset.samples // BATCH_SIZE,\n",
    "                                        callbacks=[early_stop],)"
   ]
  },
  {
   "cell_type": "code",
   "execution_count": null,
   "metadata": {
    "id": "LARWPyo68RV9"
   },
   "outputs": [],
   "source": [
    "IMG_SHAPE = IMG_SIZE + (3,)\n",
    "model_1 = tf.keras.models.Sequential()\n",
    "\n",
    "model_1.add(Conv2D(32, (3, 3), padding='same', activation='relu', input_shape=IMG_SHAPE))\n",
    "model_1.add(Conv2D(32, (3, 3), padding='same', activation='relu'))\n",
    "model_1.add(MaxPool2D())\n",
    "model_1.add(BatchNormalization())\n",
    "model_1.add(Conv2D(64, (3, 3), padding='same', activation='relu'))\n",
    "model_1.add(Conv2D(64, (3, 3), padding='same', activation='relu'))\n",
    "model_1.add(Conv2D(64, (3, 3), padding='same', activation='relu'))\n",
    "model_1.add(MaxPool2D())\n",
    "model_1.add(BatchNormalization())\n",
    "model_1.add(Conv2D(256, (3, 3), padding='same', activation='relu'))\n",
    "model_1.add(Conv2D(256, (3, 3), padding='same', activation='relu'))\n",
    "model_1.add(BatchNormalization())\n",
    "model_1.add(MaxPool2D())\n",
    "model_1.add(Conv2D(256, (3, 3), padding='same', activation='relu'))\n",
    "model_1.add(Conv2D(256, (3, 3), padding='same', activation='relu'))\n",
    "model_1.add(Flatten())\n",
    "model_1.add(Dense(4096, activation='relu'))\n",
    "model_1.add(Dropout(0.4))\n",
    "model_1.add(Dense(1024, activation='relu'))\n",
    "model_1.add(Dropout(0.2))\n",
    "model_1.add(Dense(7, activation='softmax'))"
   ]
  },
  {
   "cell_type": "code",
   "execution_count": null,
   "metadata": {},
   "outputs": [],
   "source": [
    "model"
   ]
  }
 ],
 "metadata": {
  "accelerator": "GPU",
  "colab": {
   "gpuType": "T4",
   "provenance": []
  },
  "kernelspec": {
   "display_name": "Python 3 (ipykernel)",
   "language": "python",
   "name": "python3"
  },
  "language_info": {
   "codemirror_mode": {
    "name": "ipython",
    "version": 3
   },
   "file_extension": ".py",
   "mimetype": "text/x-python",
   "name": "python",
   "nbconvert_exporter": "python",
   "pygments_lexer": "ipython3",
   "version": "3.10.12"
  }
 },
 "nbformat": 4,
 "nbformat_minor": 1
}
